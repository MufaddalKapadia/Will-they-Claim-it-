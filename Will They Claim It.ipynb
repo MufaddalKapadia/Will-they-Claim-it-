{
 "cells": [
  {
   "cell_type": "markdown",
   "metadata": {},
   "source": [
    "# Will They Claim It?"
   ]
  },
  {
   "cell_type": "markdown",
   "metadata": {},
   "source": [
    "## Analysis of Travel Insurance Data"
   ]
  },
  {
   "cell_type": "markdown",
   "metadata": {},
   "source": [
    "#### Problem Statement\n",
    "***\n",
    "SafeTravel Inc. is one of the world's largest insurance companies specializing in travel insurance. During travel, there are a lot of risk factors - loss of baggage, airline cancellations, health issues, etc. \n",
    "\n",
    "- For an insurance company, the forecasting of claims is important for successful operation. \n",
    "- Insurance companies take risks over customers. \n",
    "    - Risk management is an integral aspect of the insurance industry.\n",
    "- If the claims can be forecasted precisely and accurately, premiums can be adjusted accordingly, thereby creating the opportunity to be one step ahead of the competitors. \n",
    "- Insurers consider every factor to create profiles of high and low insurance risks. \n",
    "- Charging a lower premium than the competitors, while simultaneously maintaining a sufficient buffer to make profit, leads to more customers, which in turn leads to more profit. \n",
    "- Insurers collect information about policyholders and then analyze the data.\n",
    "\n",
    "\n",
    "Our objective is to help the underwriting team in Safe Travel, Inc. to predict whether a new buyer will make the claim or not:\n",
    "- This will eventually help to determine the premium for the buyer and the extent of coverage for the buyer\n",
    "- It will also help to devise new travel insurance products that would help get more customers on board"
   ]
  },
  {
   "cell_type": "markdown",
   "metadata": {},
   "source": [
    "#### Stakeholders and who will benefit from the analysis and findings?\n",
    "***\n",
    "- CEO\n",
    "- Finance Department \n",
    "- Processing Department\n",
    "- Insurance Underwriter\n",
    "    - Insurance underwriters are professionals who evaluate and analyze the risks involved in insuring people and assets. \n",
    "    - Insurance underwriters establish pricing for accepted insurable risks. \n",
    "    - The term underwriting means receiving remuneration for the willingness to pay a potential risk. \n",
    "    - Underwriters use specialized software and actuarial data to determine the likelihood and magnitude of a risk.\n"
   ]
  },
  {
   "cell_type": "markdown",
   "metadata": {},
   "source": [
    "#### Data Science Problem\n",
    "***\n",
    "- To predict if a new buyer will make the claim or not basis the given data\n",
    "- Accurately forecasting insurance claims helps insurance companies to improve their pricing model. Applying the correct methods can help insurance companies to be one step ahead of their competitors, which can result in more clients which in turn can lead to more profit.\n"
   ]
  },
  {
   "cell_type": "markdown",
   "metadata": {},
   "source": [
    "#### Data Science Metric\n",
    "***\n",
    "##### Precision Score\n",
    "- Precision is a metric that quantifies the number of correct positive predictions made.\n",
    "- For every predicted class, it is the fraction of the correct predictions to the total number of predictions for that class. - - It answers the question of all the values predicted as belonging to the class \"X\", what percentage is correct? \n",
    "\n",
    "Mathematically,\n",
    "Precision(P) = TP/(TP + FP)\n",
    "\n",
    "We are trying to reduce the number of instances where we have predicted that a person will claimed insurance(Target = 1) but he has not claimed(Target = 0).\n"
   ]
  },
  {
   "cell_type": "code",
   "execution_count": 1,
   "metadata": {},
   "outputs": [],
   "source": [
    "# Importing packages\n",
    "import pandas as pd\n",
    "import numpy as np\n",
    "import matplotlib.pyplot as plt\n",
    "import seaborn as sns\n",
    "from sklearn.model_selection import train_test_split\n",
    "from sklearn.preprocessing import StandardScaler\n",
    "from sklearn.metrics import accuracy_score, precision_score, recall_score, confusion_matrix, f1_score, roc_auc_score, roc_curve\n",
    "from sklearn.ensemble import RandomForestClassifier\n",
    "from imblearn.over_sampling import RandomOverSampler\n",
    "from imblearn.under_sampling import RandomUnderSampler\n",
    "from sklearn.model_selection import cross_val_score\n",
    "from scipy import stats\n",
    "from sklearn.neighbors import KNeighborsClassifier\n",
    "from sklearn.neighbors import NearestNeighbors\n",
    "from sklearn.linear_model import LogisticRegression\n",
    "from imblearn.under_sampling import NearMiss\n",
    "from imblearn.under_sampling import TomekLinks\n",
    "from sklearn.tree import DecisionTreeClassifier "
   ]
  },
  {
   "cell_type": "code",
   "execution_count": 2,
   "metadata": {},
   "outputs": [],
   "source": [
    "# Reading training data\n",
    "df_train_ms = pd.read_csv('../data/train.csv')"
   ]
  },
  {
   "cell_type": "code",
   "execution_count": 3,
   "metadata": {},
   "outputs": [
    {
     "data": {
      "text/html": [
       "<div>\n",
       "<style scoped>\n",
       "    .dataframe tbody tr th:only-of-type {\n",
       "        vertical-align: middle;\n",
       "    }\n",
       "\n",
       "    .dataframe tbody tr th {\n",
       "        vertical-align: top;\n",
       "    }\n",
       "\n",
       "    .dataframe thead th {\n",
       "        text-align: right;\n",
       "    }\n",
       "</style>\n",
       "<table border=\"1\" class=\"dataframe\">\n",
       "  <thead>\n",
       "    <tr style=\"text-align: right;\">\n",
       "      <th></th>\n",
       "      <th>ID</th>\n",
       "      <th>Agency</th>\n",
       "      <th>Agency Type</th>\n",
       "      <th>Distribution Channel</th>\n",
       "      <th>Product Name</th>\n",
       "      <th>Duration</th>\n",
       "      <th>Destination</th>\n",
       "      <th>Net Sales</th>\n",
       "      <th>Commision (in value)</th>\n",
       "      <th>Age</th>\n",
       "      <th>Claim</th>\n",
       "    </tr>\n",
       "  </thead>\n",
       "  <tbody>\n",
       "    <tr>\n",
       "      <td>0</td>\n",
       "      <td>2010</td>\n",
       "      <td>EPX</td>\n",
       "      <td>Travel Agency</td>\n",
       "      <td>Online</td>\n",
       "      <td>Cancellation Plan</td>\n",
       "      <td>61</td>\n",
       "      <td>PHILIPPINES</td>\n",
       "      <td>12.0</td>\n",
       "      <td>0.00</td>\n",
       "      <td>41</td>\n",
       "      <td>0</td>\n",
       "    </tr>\n",
       "    <tr>\n",
       "      <td>1</td>\n",
       "      <td>4245</td>\n",
       "      <td>EPX</td>\n",
       "      <td>Travel Agency</td>\n",
       "      <td>Online</td>\n",
       "      <td>Cancellation Plan</td>\n",
       "      <td>4</td>\n",
       "      <td>MALAYSIA</td>\n",
       "      <td>17.0</td>\n",
       "      <td>0.00</td>\n",
       "      <td>35</td>\n",
       "      <td>0</td>\n",
       "    </tr>\n",
       "    <tr>\n",
       "      <td>2</td>\n",
       "      <td>9251</td>\n",
       "      <td>CWT</td>\n",
       "      <td>Travel Agency</td>\n",
       "      <td>Online</td>\n",
       "      <td>Rental Vehicle Excess Insurance</td>\n",
       "      <td>26</td>\n",
       "      <td>THAILAND</td>\n",
       "      <td>19.8</td>\n",
       "      <td>11.88</td>\n",
       "      <td>47</td>\n",
       "      <td>0</td>\n",
       "    </tr>\n",
       "    <tr>\n",
       "      <td>3</td>\n",
       "      <td>4754</td>\n",
       "      <td>EPX</td>\n",
       "      <td>Travel Agency</td>\n",
       "      <td>Online</td>\n",
       "      <td>2 way Comprehensive Plan</td>\n",
       "      <td>15</td>\n",
       "      <td>HONG KONG</td>\n",
       "      <td>27.0</td>\n",
       "      <td>0.00</td>\n",
       "      <td>48</td>\n",
       "      <td>0</td>\n",
       "    </tr>\n",
       "    <tr>\n",
       "      <td>4</td>\n",
       "      <td>8840</td>\n",
       "      <td>EPX</td>\n",
       "      <td>Travel Agency</td>\n",
       "      <td>Online</td>\n",
       "      <td>2 way Comprehensive Plan</td>\n",
       "      <td>15</td>\n",
       "      <td>MALAYSIA</td>\n",
       "      <td>37.0</td>\n",
       "      <td>0.00</td>\n",
       "      <td>36</td>\n",
       "      <td>0</td>\n",
       "    </tr>\n",
       "  </tbody>\n",
       "</table>\n",
       "</div>"
      ],
      "text/plain": [
       "     ID Agency    Agency Type Distribution Channel  \\\n",
       "0  2010    EPX  Travel Agency               Online   \n",
       "1  4245    EPX  Travel Agency               Online   \n",
       "2  9251    CWT  Travel Agency               Online   \n",
       "3  4754    EPX  Travel Agency               Online   \n",
       "4  8840    EPX  Travel Agency               Online   \n",
       "\n",
       "                      Product Name  Duration  Destination  Net Sales  \\\n",
       "0                Cancellation Plan        61  PHILIPPINES       12.0   \n",
       "1                Cancellation Plan         4     MALAYSIA       17.0   \n",
       "2  Rental Vehicle Excess Insurance        26     THAILAND       19.8   \n",
       "3         2 way Comprehensive Plan        15    HONG KONG       27.0   \n",
       "4         2 way Comprehensive Plan        15     MALAYSIA       37.0   \n",
       "\n",
       "   Commision (in value)  Age  Claim  \n",
       "0                  0.00   41      0  \n",
       "1                  0.00   35      0  \n",
       "2                 11.88   47      0  \n",
       "3                  0.00   48      0  \n",
       "4                  0.00   36      0  "
      ]
     },
     "execution_count": 3,
     "metadata": {},
     "output_type": "execute_result"
    }
   ],
   "source": [
    "# Exploring the training data\n",
    "df_train_ms.head()"
   ]
  },
  {
   "cell_type": "code",
   "execution_count": 4,
   "metadata": {},
   "outputs": [
    {
     "data": {
      "text/plain": [
       "(52310, 11)"
      ]
     },
     "execution_count": 4,
     "metadata": {},
     "output_type": "execute_result"
    }
   ],
   "source": [
    "df_train_ms.shape"
   ]
  },
  {
   "cell_type": "code",
   "execution_count": 5,
   "metadata": {},
   "outputs": [
    {
     "name": "stdout",
     "output_type": "stream",
     "text": [
      "<class 'pandas.core.frame.DataFrame'>\n",
      "RangeIndex: 52310 entries, 0 to 52309\n",
      "Data columns (total 11 columns):\n",
      "ID                      52310 non-null int64\n",
      "Agency                  52310 non-null object\n",
      "Agency Type             52310 non-null object\n",
      "Distribution Channel    52310 non-null object\n",
      "Product Name            52310 non-null object\n",
      "Duration                52310 non-null int64\n",
      "Destination             52310 non-null object\n",
      "Net Sales               52310 non-null float64\n",
      "Commision (in value)    52310 non-null float64\n",
      "Age                     52310 non-null int64\n",
      "Claim                   52310 non-null int64\n",
      "dtypes: float64(2), int64(4), object(5)\n",
      "memory usage: 4.4+ MB\n"
     ]
    }
   ],
   "source": [
    "df_train_ms.info()"
   ]
  },
  {
   "cell_type": "code",
   "execution_count": 6,
   "metadata": {},
   "outputs": [
    {
     "data": {
      "text/html": [
       "<div>\n",
       "<style scoped>\n",
       "    .dataframe tbody tr th:only-of-type {\n",
       "        vertical-align: middle;\n",
       "    }\n",
       "\n",
       "    .dataframe tbody tr th {\n",
       "        vertical-align: top;\n",
       "    }\n",
       "\n",
       "    .dataframe thead th {\n",
       "        text-align: right;\n",
       "    }\n",
       "</style>\n",
       "<table border=\"1\" class=\"dataframe\">\n",
       "  <thead>\n",
       "    <tr style=\"text-align: right;\">\n",
       "      <th></th>\n",
       "      <th>ID</th>\n",
       "      <th>Duration</th>\n",
       "      <th>Net Sales</th>\n",
       "      <th>Commision (in value)</th>\n",
       "      <th>Age</th>\n",
       "      <th>Claim</th>\n",
       "    </tr>\n",
       "  </thead>\n",
       "  <tbody>\n",
       "    <tr>\n",
       "      <td>count</td>\n",
       "      <td>52310.000000</td>\n",
       "      <td>52310.000000</td>\n",
       "      <td>52310.000000</td>\n",
       "      <td>52310.000000</td>\n",
       "      <td>52310.000000</td>\n",
       "      <td>52310.000000</td>\n",
       "    </tr>\n",
       "    <tr>\n",
       "      <td>mean</td>\n",
       "      <td>6005.745804</td>\n",
       "      <td>58.256108</td>\n",
       "      <td>48.554673</td>\n",
       "      <td>12.219963</td>\n",
       "      <td>39.555725</td>\n",
       "      <td>0.166699</td>\n",
       "    </tr>\n",
       "    <tr>\n",
       "      <td>std</td>\n",
       "      <td>2306.450475</td>\n",
       "      <td>109.138708</td>\n",
       "      <td>60.198589</td>\n",
       "      <td>22.847645</td>\n",
       "      <td>13.762473</td>\n",
       "      <td>0.372710</td>\n",
       "    </tr>\n",
       "    <tr>\n",
       "      <td>min</td>\n",
       "      <td>2000.000000</td>\n",
       "      <td>-2.000000</td>\n",
       "      <td>-389.000000</td>\n",
       "      <td>0.000000</td>\n",
       "      <td>0.000000</td>\n",
       "      <td>0.000000</td>\n",
       "    </tr>\n",
       "    <tr>\n",
       "      <td>25%</td>\n",
       "      <td>4015.000000</td>\n",
       "      <td>10.000000</td>\n",
       "      <td>19.800000</td>\n",
       "      <td>0.000000</td>\n",
       "      <td>33.000000</td>\n",
       "      <td>0.000000</td>\n",
       "    </tr>\n",
       "    <tr>\n",
       "      <td>50%</td>\n",
       "      <td>6002.000000</td>\n",
       "      <td>24.000000</td>\n",
       "      <td>29.500000</td>\n",
       "      <td>0.000000</td>\n",
       "      <td>36.000000</td>\n",
       "      <td>0.000000</td>\n",
       "    </tr>\n",
       "    <tr>\n",
       "      <td>75%</td>\n",
       "      <td>8004.000000</td>\n",
       "      <td>57.000000</td>\n",
       "      <td>55.000000</td>\n",
       "      <td>13.380000</td>\n",
       "      <td>43.000000</td>\n",
       "      <td>0.000000</td>\n",
       "    </tr>\n",
       "    <tr>\n",
       "      <td>max</td>\n",
       "      <td>10000.000000</td>\n",
       "      <td>4881.000000</td>\n",
       "      <td>682.000000</td>\n",
       "      <td>262.760000</td>\n",
       "      <td>118.000000</td>\n",
       "      <td>1.000000</td>\n",
       "    </tr>\n",
       "  </tbody>\n",
       "</table>\n",
       "</div>"
      ],
      "text/plain": [
       "                 ID      Duration     Net Sales  Commision (in value)  \\\n",
       "count  52310.000000  52310.000000  52310.000000          52310.000000   \n",
       "mean    6005.745804     58.256108     48.554673             12.219963   \n",
       "std     2306.450475    109.138708     60.198589             22.847645   \n",
       "min     2000.000000     -2.000000   -389.000000              0.000000   \n",
       "25%     4015.000000     10.000000     19.800000              0.000000   \n",
       "50%     6002.000000     24.000000     29.500000              0.000000   \n",
       "75%     8004.000000     57.000000     55.000000             13.380000   \n",
       "max    10000.000000   4881.000000    682.000000            262.760000   \n",
       "\n",
       "                Age         Claim  \n",
       "count  52310.000000  52310.000000  \n",
       "mean      39.555725      0.166699  \n",
       "std       13.762473      0.372710  \n",
       "min        0.000000      0.000000  \n",
       "25%       33.000000      0.000000  \n",
       "50%       36.000000      0.000000  \n",
       "75%       43.000000      0.000000  \n",
       "max      118.000000      1.000000  "
      ]
     },
     "execution_count": 6,
     "metadata": {},
     "output_type": "execute_result"
    }
   ],
   "source": [
    "df_train_ms.describe()"
   ]
  },
  {
   "cell_type": "code",
   "execution_count": 7,
   "metadata": {},
   "outputs": [
    {
     "data": {
      "text/plain": [
       "ID                      -0.001854\n",
       "Duration                15.352524\n",
       "Net Sales                2.811837\n",
       "Commision (in value)     3.535694\n",
       "Age                      2.947891\n",
       "Claim                    1.788598\n",
       "dtype: float64"
      ]
     },
     "execution_count": 7,
     "metadata": {},
     "output_type": "execute_result"
    }
   ],
   "source": [
    "df_train_ms.skew()"
   ]
  },
  {
   "cell_type": "markdown",
   "metadata": {},
   "source": [
    "### Findings after exploring the data\n",
    "- There are no NULL values in the training dataset\n",
    "- Columns Duration, Net Sales and Commission(in value) are Right Skewed\n",
    "- There are 5 numerical columns and 5 categorical columns"
   ]
  },
  {
   "cell_type": "code",
   "execution_count": 8,
   "metadata": {},
   "outputs": [],
   "source": [
    "# Dropping ID column\n",
    "df_train_ms.drop('ID',1,inplace = True)"
   ]
  },
  {
   "cell_type": "code",
   "execution_count": 9,
   "metadata": {},
   "outputs": [
    {
     "data": {
      "image/png": "[encoded data removed]",
      "text/plain": [
       "<Figure size 432x432 with 1 Axes>"
      ]
     },
     "metadata": {
      "needs_background": "light"
     },
     "output_type": "display_data"
    }
   ],
   "source": [
    "# Plotting Duration\n",
    "plt.figure(figsize = (6,6))\n",
    "sns.distplot(df_train_ms['Duration'],kde=True)\n",
    "plt.title('Duration')\n",
    "plt.show()"
   ]
  },
  {
   "cell_type": "code",
   "execution_count": 10,
   "metadata": {},
   "outputs": [
    {
     "data": {
      "image/png": "[encoded data removed]",
      "text/plain": [
       "<Figure size 432x432 with 1 Axes>"
      ]
     },
     "metadata": {
      "needs_background": "light"
     },
     "output_type": "display_data"
    }
   ],
   "source": [
    "# Plotting Net Sales\n",
    "plt.figure(figsize = (6,6))\n",
    "sns.distplot(df_train_ms['Net Sales'],kde=True)\n",
    "plt.title('Net Sales')\n",
    "plt.show()"
   ]
  },
  {
   "cell_type": "code",
   "execution_count": 11,
   "metadata": {},
   "outputs": [
    {
     "data": {
      "image/png": "[encoded data removed]",
      "text/plain": [
       "<Figure size 432x432 with 1 Axes>"
      ]
     },
     "metadata": {
      "needs_background": "light"
     },
     "output_type": "display_data"
    }
   ],
   "source": [
    "# Plotting Commission\n",
    "plt.figure(figsize = (6,6))\n",
    "sns.distplot(df_train_ms['Commision (in value)'],kde=True)\n",
    "plt.title('Commision (in value)')\n",
    "plt.show()"
   ]
  },
  {
   "cell_type": "code",
   "execution_count": 12,
   "metadata": {},
   "outputs": [
    {
     "data": {
      "text/html": [
       "<div>\n",
       "<style scoped>\n",
       "    .dataframe tbody tr th:only-of-type {\n",
       "        vertical-align: middle;\n",
       "    }\n",
       "\n",
       "    .dataframe tbody tr th {\n",
       "        vertical-align: top;\n",
       "    }\n",
       "\n",
       "    .dataframe thead th {\n",
       "        text-align: right;\n",
       "    }\n",
       "</style>\n",
       "<table border=\"1\" class=\"dataframe\">\n",
       "  <thead>\n",
       "    <tr style=\"text-align: right;\">\n",
       "      <th></th>\n",
       "      <th>Agency</th>\n",
       "      <th>Agency Type</th>\n",
       "      <th>Distribution Channel</th>\n",
       "      <th>Product Name</th>\n",
       "      <th>Duration</th>\n",
       "      <th>Destination</th>\n",
       "      <th>Net Sales</th>\n",
       "      <th>Commision (in value)</th>\n",
       "      <th>Age</th>\n",
       "      <th>Claim</th>\n",
       "    </tr>\n",
       "  </thead>\n",
       "  <tbody>\n",
       "    <tr>\n",
       "      <td>11523</td>\n",
       "      <td>JZI</td>\n",
       "      <td>Airlines</td>\n",
       "      <td>Online</td>\n",
       "      <td>Basic Plan</td>\n",
       "      <td>-1</td>\n",
       "      <td>INDONESIA</td>\n",
       "      <td>18.0</td>\n",
       "      <td>6.3</td>\n",
       "      <td>118</td>\n",
       "      <td>0</td>\n",
       "    </tr>\n",
       "    <tr>\n",
       "      <td>15949</td>\n",
       "      <td>JZI</td>\n",
       "      <td>Airlines</td>\n",
       "      <td>Online</td>\n",
       "      <td>Basic Plan</td>\n",
       "      <td>-1</td>\n",
       "      <td>BRUNEI DARUSSALAM</td>\n",
       "      <td>18.0</td>\n",
       "      <td>6.3</td>\n",
       "      <td>118</td>\n",
       "      <td>0</td>\n",
       "    </tr>\n",
       "    <tr>\n",
       "      <td>33398</td>\n",
       "      <td>JZI</td>\n",
       "      <td>Airlines</td>\n",
       "      <td>Online</td>\n",
       "      <td>Basic Plan</td>\n",
       "      <td>-1</td>\n",
       "      <td>MALAYSIA</td>\n",
       "      <td>18.0</td>\n",
       "      <td>6.3</td>\n",
       "      <td>118</td>\n",
       "      <td>0</td>\n",
       "    </tr>\n",
       "    <tr>\n",
       "      <td>41424</td>\n",
       "      <td>JZI</td>\n",
       "      <td>Airlines</td>\n",
       "      <td>Online</td>\n",
       "      <td>Basic Plan</td>\n",
       "      <td>-2</td>\n",
       "      <td>BANGLADESH</td>\n",
       "      <td>22.0</td>\n",
       "      <td>7.7</td>\n",
       "      <td>118</td>\n",
       "      <td>0</td>\n",
       "    </tr>\n",
       "  </tbody>\n",
       "</table>\n",
       "</div>"
      ],
      "text/plain": [
       "      Agency Agency Type Distribution Channel Product Name  Duration  \\\n",
       "11523    JZI    Airlines               Online   Basic Plan        -1   \n",
       "15949    JZI    Airlines               Online   Basic Plan        -1   \n",
       "33398    JZI    Airlines               Online   Basic Plan        -1   \n",
       "41424    JZI    Airlines               Online   Basic Plan        -2   \n",
       "\n",
       "             Destination  Net Sales  Commision (in value)  Age  Claim  \n",
       "11523          INDONESIA       18.0                   6.3  118      0  \n",
       "15949  BRUNEI DARUSSALAM       18.0                   6.3  118      0  \n",
       "33398           MALAYSIA       18.0                   6.3  118      0  \n",
       "41424         BANGLADESH       22.0                   7.7  118      0  "
      ]
     },
     "execution_count": 12,
     "metadata": {},
     "output_type": "execute_result"
    }
   ],
   "source": [
    "# Negative values of duration(Outlier detection)\n",
    "df_train_ms[df_train_ms['Duration'] < 0]"
   ]
  },
  {
   "cell_type": "code",
   "execution_count": 13,
   "metadata": {},
   "outputs": [],
   "source": [
    "# Replacing the negative values in Duration with 0(Outlier Correction)\n",
    "df_train_ms.Duration.replace(-1,0, inplace = True)\n",
    "df_train_ms.Duration.replace(-2,0, inplace = True)"
   ]
  },
  {
   "cell_type": "code",
   "execution_count": 14,
   "metadata": {},
   "outputs": [
    {
     "data": {
      "text/plain": [
       "0    43590\n",
       "1     8720\n",
       "Name: Claim, dtype: int64"
      ]
     },
     "execution_count": 14,
     "metadata": {},
     "output_type": "execute_result"
    }
   ],
   "source": [
    "# Getting data about claims made\n",
    "df_train_ms['Claim'].value_counts()"
   ]
  },
  {
   "cell_type": "code",
   "execution_count": 15,
   "metadata": {},
   "outputs": [
    {
     "data": {
      "image/png": "[encoded data removed]",
      "text/plain": [
       "<Figure size 432x432 with 1 Axes>"
      ]
     },
     "metadata": {
      "needs_background": "light"
     },
     "output_type": "display_data"
    }
   ],
   "source": [
    "# Plotting Claim data\n",
    "plt.figure(figsize = (6,6))\n",
    "ax = sns.countplot(df_train_ms['Claim'])\n",
    "plt.xticks((0, 1), ('Not Claimed', 'Claimed'), rotation='horizontal')\n",
    "\n",
    "# Displaying the count on top of the bar\n",
    "for count in ax.patches:\n",
    "        ax.annotate('{:}'.format(count.get_height()), (count.get_x()+0.15, count.get_height()+75))\n",
    "\n",
    "plt.title('Claim Status')\n",
    "plt.show()"
   ]
  },
  {
   "cell_type": "code",
   "execution_count": 16,
   "metadata": {},
   "outputs": [
    {
     "data": {
      "text/plain": [
       "<matplotlib.legend.Legend at 0x1d229122a88>"
      ]
     },
     "execution_count": 16,
     "metadata": {},
     "output_type": "execute_result"
    },
    {
     "data": {
      "image/png": "[encoded data removed]",
      "text/plain": [
       "<Figure size 864x432 with 1 Axes>"
      ]
     },
     "metadata": {
      "needs_background": "light"
     },
     "output_type": "display_data"
    }
   ],
   "source": [
    "plt.figure(figsize = (12,6))\n",
    "sns.distplot(df_train_ms[df_train_ms.Claim == 0].Age, color ='black', label = 'Not Claimed', kde=True)\n",
    "sns.distplot(df_train_ms[df_train_ms.Claim == 1].Age, color ='yellow', label = 'Claimed', kde= True)\n",
    "plt.ylabel('Density')\n",
    "plt.legend()"
   ]
  },
  {
   "cell_type": "code",
   "execution_count": 17,
   "metadata": {},
   "outputs": [
    {
     "data": {
      "image/png": "[encoded data removed]",
      "text/plain": [
       "<Figure size 720x360 with 1 Axes>"
      ]
     },
     "metadata": {
      "needs_background": "light"
     },
     "output_type": "display_data"
    },
    {
     "data": {
      "text/plain": [
       "<Figure size 432x288 with 0 Axes>"
      ]
     },
     "metadata": {},
     "output_type": "display_data"
    }
   ],
   "source": [
    "# Products bought by customers\n",
    "plt.figure(figsize = (10,5))\n",
    "df_train_ms['Product Name'].value_counts().head().plot(kind='bar', figsize=(10, 5))\n",
    "plt.title('Top 5 Products bought by Customers')\n",
    "plt.show()\n",
    "plt.savefig('fig1.png')"
   ]
  },
  {
   "cell_type": "code",
   "execution_count": 18,
   "metadata": {},
   "outputs": [
    {
     "data": {
      "text/plain": [
       "Text(0.5, 1.0, 'Top 5 Agencies preferred by customers')"
      ]
     },
     "execution_count": 18,
     "metadata": {},
     "output_type": "execute_result"
    },
    {
     "data": {
      "image/png": "[encoded data removed]",
      "text/plain": [
       "<Figure size 864x360 with 1 Axes>"
      ]
     },
     "metadata": {
      "needs_background": "light"
     },
     "output_type": "display_data"
    }
   ],
   "source": [
    "# Agencies preferred by customers\n",
    "plt.figure(figsize = (12,5))\n",
    "df_train_ms['Agency'].value_counts().head().plot(kind='bar')\n",
    "plt.title(\"Top 5 Agencies preferred by customers\")"
   ]
  },
  {
   "cell_type": "code",
   "execution_count": 19,
   "metadata": {},
   "outputs": [
    {
     "data": {
      "text/html": [
       "<div>\n",
       "<style scoped>\n",
       "    .dataframe tbody tr th:only-of-type {\n",
       "        vertical-align: middle;\n",
       "    }\n",
       "\n",
       "    .dataframe tbody tr th {\n",
       "        vertical-align: top;\n",
       "    }\n",
       "\n",
       "    .dataframe thead th {\n",
       "        text-align: right;\n",
       "    }\n",
       "</style>\n",
       "<table border=\"1\" class=\"dataframe\">\n",
       "  <thead>\n",
       "    <tr style=\"text-align: right;\">\n",
       "      <th></th>\n",
       "      <th>Duration</th>\n",
       "      <th>Net Sales</th>\n",
       "      <th>Commision (in value)</th>\n",
       "      <th>Age</th>\n",
       "      <th>Claim</th>\n",
       "      <th>ADM</th>\n",
       "      <th>ART</th>\n",
       "      <th>C2B</th>\n",
       "      <th>CBH</th>\n",
       "      <th>CCR</th>\n",
       "      <th>...</th>\n",
       "      <th>TURKMENISTAN</th>\n",
       "      <th>UKRAINE</th>\n",
       "      <th>UNITED ARAB EMIRATES</th>\n",
       "      <th>UNITED KINGDOM</th>\n",
       "      <th>UNITED STATES</th>\n",
       "      <th>UZBEKISTAN</th>\n",
       "      <th>VANUATU</th>\n",
       "      <th>VENEZUELA</th>\n",
       "      <th>VIET NAM</th>\n",
       "      <th>ZAMBIA</th>\n",
       "    </tr>\n",
       "  </thead>\n",
       "  <tbody>\n",
       "    <tr>\n",
       "      <td>0</td>\n",
       "      <td>61</td>\n",
       "      <td>12.000000</td>\n",
       "      <td>0.0000</td>\n",
       "      <td>41</td>\n",
       "      <td>0</td>\n",
       "      <td>0</td>\n",
       "      <td>0</td>\n",
       "      <td>0</td>\n",
       "      <td>0</td>\n",
       "      <td>0</td>\n",
       "      <td>...</td>\n",
       "      <td>0</td>\n",
       "      <td>0</td>\n",
       "      <td>0</td>\n",
       "      <td>0</td>\n",
       "      <td>0</td>\n",
       "      <td>0</td>\n",
       "      <td>0</td>\n",
       "      <td>0</td>\n",
       "      <td>0</td>\n",
       "      <td>0</td>\n",
       "    </tr>\n",
       "    <tr>\n",
       "      <td>1</td>\n",
       "      <td>4</td>\n",
       "      <td>17.000000</td>\n",
       "      <td>0.0000</td>\n",
       "      <td>35</td>\n",
       "      <td>0</td>\n",
       "      <td>0</td>\n",
       "      <td>0</td>\n",
       "      <td>0</td>\n",
       "      <td>0</td>\n",
       "      <td>0</td>\n",
       "      <td>...</td>\n",
       "      <td>0</td>\n",
       "      <td>0</td>\n",
       "      <td>0</td>\n",
       "      <td>0</td>\n",
       "      <td>0</td>\n",
       "      <td>0</td>\n",
       "      <td>0</td>\n",
       "      <td>0</td>\n",
       "      <td>0</td>\n",
       "      <td>0</td>\n",
       "    </tr>\n",
       "    <tr>\n",
       "      <td>2</td>\n",
       "      <td>26</td>\n",
       "      <td>19.800000</td>\n",
       "      <td>11.8800</td>\n",
       "      <td>47</td>\n",
       "      <td>0</td>\n",
       "      <td>0</td>\n",
       "      <td>0</td>\n",
       "      <td>0</td>\n",
       "      <td>0</td>\n",
       "      <td>0</td>\n",
       "      <td>...</td>\n",
       "      <td>0</td>\n",
       "      <td>0</td>\n",
       "      <td>0</td>\n",
       "      <td>0</td>\n",
       "      <td>0</td>\n",
       "      <td>0</td>\n",
       "      <td>0</td>\n",
       "      <td>0</td>\n",
       "      <td>0</td>\n",
       "      <td>0</td>\n",
       "    </tr>\n",
       "    <tr>\n",
       "      <td>3</td>\n",
       "      <td>15</td>\n",
       "      <td>27.000000</td>\n",
       "      <td>0.0000</td>\n",
       "      <td>48</td>\n",
       "      <td>0</td>\n",
       "      <td>0</td>\n",
       "      <td>0</td>\n",
       "      <td>0</td>\n",
       "      <td>0</td>\n",
       "      <td>0</td>\n",
       "      <td>...</td>\n",
       "      <td>0</td>\n",
       "      <td>0</td>\n",
       "      <td>0</td>\n",
       "      <td>0</td>\n",
       "      <td>0</td>\n",
       "      <td>0</td>\n",
       "      <td>0</td>\n",
       "      <td>0</td>\n",
       "      <td>0</td>\n",
       "      <td>0</td>\n",
       "    </tr>\n",
       "    <tr>\n",
       "      <td>4</td>\n",
       "      <td>15</td>\n",
       "      <td>37.000000</td>\n",
       "      <td>0.0000</td>\n",
       "      <td>36</td>\n",
       "      <td>0</td>\n",
       "      <td>0</td>\n",
       "      <td>0</td>\n",
       "      <td>0</td>\n",
       "      <td>0</td>\n",
       "      <td>0</td>\n",
       "      <td>...</td>\n",
       "      <td>0</td>\n",
       "      <td>0</td>\n",
       "      <td>0</td>\n",
       "      <td>0</td>\n",
       "      <td>0</td>\n",
       "      <td>0</td>\n",
       "      <td>0</td>\n",
       "      <td>0</td>\n",
       "      <td>0</td>\n",
       "      <td>0</td>\n",
       "    </tr>\n",
       "    <tr>\n",
       "      <td>...</td>\n",
       "      <td>...</td>\n",
       "      <td>...</td>\n",
       "      <td>...</td>\n",
       "      <td>...</td>\n",
       "      <td>...</td>\n",
       "      <td>...</td>\n",
       "      <td>...</td>\n",
       "      <td>...</td>\n",
       "      <td>...</td>\n",
       "      <td>...</td>\n",
       "      <td>...</td>\n",
       "      <td>...</td>\n",
       "      <td>...</td>\n",
       "      <td>...</td>\n",
       "      <td>...</td>\n",
       "      <td>...</td>\n",
       "      <td>...</td>\n",
       "      <td>...</td>\n",
       "      <td>...</td>\n",
       "      <td>...</td>\n",
       "      <td>...</td>\n",
       "    </tr>\n",
       "    <tr>\n",
       "      <td>52305</td>\n",
       "      <td>365</td>\n",
       "      <td>444.750593</td>\n",
       "      <td>111.1858</td>\n",
       "      <td>40</td>\n",
       "      <td>1</td>\n",
       "      <td>0</td>\n",
       "      <td>0</td>\n",
       "      <td>1</td>\n",
       "      <td>0</td>\n",
       "      <td>0</td>\n",
       "      <td>...</td>\n",
       "      <td>0</td>\n",
       "      <td>0</td>\n",
       "      <td>0</td>\n",
       "      <td>0</td>\n",
       "      <td>0</td>\n",
       "      <td>0</td>\n",
       "      <td>0</td>\n",
       "      <td>0</td>\n",
       "      <td>0</td>\n",
       "      <td>0</td>\n",
       "    </tr>\n",
       "    <tr>\n",
       "      <td>52306</td>\n",
       "      <td>8</td>\n",
       "      <td>23.000000</td>\n",
       "      <td>9.2000</td>\n",
       "      <td>54</td>\n",
       "      <td>0</td>\n",
       "      <td>0</td>\n",
       "      <td>0</td>\n",
       "      <td>0</td>\n",
       "      <td>0</td>\n",
       "      <td>0</td>\n",
       "      <td>...</td>\n",
       "      <td>0</td>\n",
       "      <td>0</td>\n",
       "      <td>0</td>\n",
       "      <td>0</td>\n",
       "      <td>0</td>\n",
       "      <td>0</td>\n",
       "      <td>0</td>\n",
       "      <td>0</td>\n",
       "      <td>0</td>\n",
       "      <td>0</td>\n",
       "    </tr>\n",
       "    <tr>\n",
       "      <td>52307</td>\n",
       "      <td>38</td>\n",
       "      <td>61.100000</td>\n",
       "      <td>15.2800</td>\n",
       "      <td>37</td>\n",
       "      <td>0</td>\n",
       "      <td>0</td>\n",
       "      <td>0</td>\n",
       "      <td>1</td>\n",
       "      <td>0</td>\n",
       "      <td>0</td>\n",
       "      <td>...</td>\n",
       "      <td>0</td>\n",
       "      <td>0</td>\n",
       "      <td>0</td>\n",
       "      <td>0</td>\n",
       "      <td>0</td>\n",
       "      <td>0</td>\n",
       "      <td>0</td>\n",
       "      <td>0</td>\n",
       "      <td>0</td>\n",
       "      <td>0</td>\n",
       "    </tr>\n",
       "    <tr>\n",
       "      <td>52308</td>\n",
       "      <td>2</td>\n",
       "      <td>10.000000</td>\n",
       "      <td>0.0000</td>\n",
       "      <td>46</td>\n",
       "      <td>0</td>\n",
       "      <td>0</td>\n",
       "      <td>0</td>\n",
       "      <td>0</td>\n",
       "      <td>0</td>\n",
       "      <td>0</td>\n",
       "      <td>...</td>\n",
       "      <td>0</td>\n",
       "      <td>0</td>\n",
       "      <td>0</td>\n",
       "      <td>0</td>\n",
       "      <td>0</td>\n",
       "      <td>0</td>\n",
       "      <td>0</td>\n",
       "      <td>0</td>\n",
       "      <td>0</td>\n",
       "      <td>0</td>\n",
       "    </tr>\n",
       "    <tr>\n",
       "      <td>52309</td>\n",
       "      <td>414</td>\n",
       "      <td>216.000000</td>\n",
       "      <td>54.0000</td>\n",
       "      <td>41</td>\n",
       "      <td>0</td>\n",
       "      <td>0</td>\n",
       "      <td>0</td>\n",
       "      <td>1</td>\n",
       "      <td>0</td>\n",
       "      <td>0</td>\n",
       "      <td>...</td>\n",
       "      <td>0</td>\n",
       "      <td>0</td>\n",
       "      <td>0</td>\n",
       "      <td>0</td>\n",
       "      <td>0</td>\n",
       "      <td>0</td>\n",
       "      <td>0</td>\n",
       "      <td>0</td>\n",
       "      <td>0</td>\n",
       "      <td>0</td>\n",
       "    </tr>\n",
       "  </tbody>\n",
       "</table>\n",
       "<p>52310 rows × 147 columns</p>\n",
       "</div>"
      ],
      "text/plain": [
       "       Duration   Net Sales  Commision (in value)  Age  Claim  ADM  ART  C2B  \\\n",
       "0            61   12.000000                0.0000   41      0    0    0    0   \n",
       "1             4   17.000000                0.0000   35      0    0    0    0   \n",
       "2            26   19.800000               11.8800   47      0    0    0    0   \n",
       "3            15   27.000000                0.0000   48      0    0    0    0   \n",
       "4            15   37.000000                0.0000   36      0    0    0    0   \n",
       "...         ...         ...                   ...  ...    ...  ...  ...  ...   \n",
       "52305       365  444.750593              111.1858   40      1    0    0    1   \n",
       "52306         8   23.000000                9.2000   54      0    0    0    0   \n",
       "52307        38   61.100000               15.2800   37      0    0    0    1   \n",
       "52308         2   10.000000                0.0000   46      0    0    0    0   \n",
       "52309       414  216.000000               54.0000   41      0    0    0    1   \n",
       "\n",
       "       CBH  CCR  ...  TURKMENISTAN  UKRAINE  UNITED ARAB EMIRATES  \\\n",
       "0        0    0  ...             0        0                     0   \n",
       "1        0    0  ...             0        0                     0   \n",
       "2        0    0  ...             0        0                     0   \n",
       "3        0    0  ...             0        0                     0   \n",
       "4        0    0  ...             0        0                     0   \n",
       "...    ...  ...  ...           ...      ...                   ...   \n",
       "52305    0    0  ...             0        0                     0   \n",
       "52306    0    0  ...             0        0                     0   \n",
       "52307    0    0  ...             0        0                     0   \n",
       "52308    0    0  ...             0        0                     0   \n",
       "52309    0    0  ...             0        0                     0   \n",
       "\n",
       "       UNITED KINGDOM  UNITED STATES  UZBEKISTAN  VANUATU  VENEZUELA  \\\n",
       "0                   0              0           0        0          0   \n",
       "1                   0              0           0        0          0   \n",
       "2                   0              0           0        0          0   \n",
       "3                   0              0           0        0          0   \n",
       "4                   0              0           0        0          0   \n",
       "...               ...            ...         ...      ...        ...   \n",
       "52305               0              0           0        0          0   \n",
       "52306               0              0           0        0          0   \n",
       "52307               0              0           0        0          0   \n",
       "52308               0              0           0        0          0   \n",
       "52309               0              0           0        0          0   \n",
       "\n",
       "       VIET NAM  ZAMBIA  \n",
       "0             0       0  \n",
       "1             0       0  \n",
       "2             0       0  \n",
       "3             0       0  \n",
       "4             0       0  \n",
       "...         ...     ...  \n",
       "52305         0       0  \n",
       "52306         0       0  \n",
       "52307         0       0  \n",
       "52308         0       0  \n",
       "52309         0       0  \n",
       "\n",
       "[52310 rows x 147 columns]"
      ]
     },
     "execution_count": 19,
     "metadata": {},
     "output_type": "execute_result"
    }
   ],
   "source": [
    "# One- hot encoding categorical features\n",
    "ohe_columns = df_train_ms.select_dtypes('object').columns.tolist()\n",
    "for ohe in ohe_columns:\n",
    "    df_train_ms = pd.concat((df_train_ms,pd.get_dummies(df_train_ms[ohe])),1)\n",
    "    df_train_ms.drop(ohe,1,inplace = True)\n",
    "df_train_ms"
   ]
  },
  {
   "cell_type": "code",
   "execution_count": 20,
   "metadata": {},
   "outputs": [],
   "source": [
    "# Removing skewness in Duration column\n",
    "df_train_ms.loc[:,'Duration'] = np.power(df_train_ms.Duration, 0.15)"
   ]
  },
  {
   "cell_type": "code",
   "execution_count": 21,
   "metadata": {},
   "outputs": [],
   "source": [
    "# Removing skewness in Net Sales column\n",
    "power = 0.25\n",
    "Net_sales_value = df_train_ms.index\n",
    "for index in Net_sales_value:\n",
    "    # For negative values we take the absolute of that value, then transform it using power and add negative sign again\n",
    "    if df_train_ms.loc[index,'Net Sales'] < 0:\n",
    "        df_train_ms.loc[index,'Net Sales'] = -np.power(abs(df_train_ms.loc[index,'Net Sales']), power)\n",
    "    else:\n",
    "        df_train_ms.loc[index,'Net Sales'] = np.power(df_train_ms.loc[index,'Net Sales'], power)"
   ]
  },
  {
   "cell_type": "code",
   "execution_count": 22,
   "metadata": {},
   "outputs": [],
   "source": [
    "# Removing skewness in Commission column\n",
    "df_train_ms.loc[:,'Commision (in value)'] = np.power(df_train_ms['Commision (in value)'], 0.3)"
   ]
  },
  {
   "cell_type": "code",
   "execution_count": 23,
   "metadata": {},
   "outputs": [
    {
     "data": {
      "text/plain": [
       "Duration                  0.543386\n",
       "Net Sales                -2.172115\n",
       "Commision (in value)      0.493469\n",
       "Age                       2.947891\n",
       "Claim                     1.788598\n",
       "                           ...    \n",
       "UZBEKISTAN               80.846305\n",
       "VANUATU                 132.040398\n",
       "VENEZUELA               114.347059\n",
       "VIET NAM                  6.358985\n",
       "ZAMBIA                  228.713795\n",
       "Length: 147, dtype: float64"
      ]
     },
     "execution_count": 23,
     "metadata": {},
     "output_type": "execute_result"
    }
   ],
   "source": [
    "# Checking skewness after transformation\n",
    "df_train_ms.skew()"
   ]
  },
  {
   "cell_type": "code",
   "execution_count": 24,
   "metadata": {},
   "outputs": [
    {
     "data": {
      "image/png": "[encoded data removed]",
      "text/plain": [
       "<Figure size 432x432 with 1 Axes>"
      ]
     },
     "metadata": {
      "needs_background": "light"
     },
     "output_type": "display_data"
    }
   ],
   "source": [
    "# Plotting Duration\n",
    "plt.figure(figsize = (6,6))\n",
    "sns.distplot(df_train_ms['Duration'],kde=True)\n",
    "plt.title('Duration')\n",
    "plt.show()"
   ]
  },
  {
   "cell_type": "code",
   "execution_count": 25,
   "metadata": {},
   "outputs": [
    {
     "data": {
      "image/png": "[encoded data removed]",
      "text/plain": [
       "<Figure size 432x432 with 1 Axes>"
      ]
     },
     "metadata": {
      "needs_background": "light"
     },
     "output_type": "display_data"
    }
   ],
   "source": [
    "# Plotting Net Sales\n",
    "plt.figure(figsize = (6,6))\n",
    "sns.distplot(df_train_ms['Net Sales'],kde=True)\n",
    "plt.title('Net Sales')\n",
    "plt.show()"
   ]
  },
  {
   "cell_type": "code",
   "execution_count": 26,
   "metadata": {},
   "outputs": [
    {
     "data": {
      "image/png": "[encoded data removed]",
      "text/plain": [
       "<Figure size 432x432 with 1 Axes>"
      ]
     },
     "metadata": {
      "needs_background": "light"
     },
     "output_type": "display_data"
    }
   ],
   "source": [
    "# Plotting Commission\n",
    "plt.figure(figsize = (6,6))\n",
    "sns.distplot(df_train_ms['Commision (in value)'],kde=True)\n",
    "plt.title('Commision (in value)')\n",
    "plt.show()"
   ]
  },
  {
   "cell_type": "markdown",
   "metadata": {},
   "source": [
    "### Model Building without applying undersampling or oversampling"
   ]
  },
  {
   "cell_type": "markdown",
   "metadata": {},
   "source": [
    "#### Logistic Regression"
   ]
  },
  {
   "cell_type": "code",
   "execution_count": 27,
   "metadata": {},
   "outputs": [
    {
     "data": {
      "image/png": "[encoded data removed]",
      "text/plain": [
       "<Figure size 576x288 with 1 Axes>"
      ]
     },
     "metadata": {
      "needs_background": "light"
     },
     "output_type": "display_data"
    },
    {
     "name": "stdout",
     "output_type": "stream",
     "text": [
      "AUC score = 0.864\n",
      "Precision Score: 0.42186588921282797\n",
      "Accuracy: 0.7824507742305487\n",
      "Recall Score: 0.8316091954022988\n",
      "Confusion Matrix: \n",
      " [[6739 1983]\n",
      " [ 293 1447]]\n"
     ]
    }
   ],
   "source": [
    "X = df_train_ms.drop('Claim',1)\n",
    "y = df_train_ms.Claim\n",
    "\n",
    "X_train,X_test,y_train,y_test = train_test_split(X,y,random_state = 0, test_size = 0.20)\n",
    "\n",
    "scaler = StandardScaler()\n",
    "X_train = scaler.fit_transform(X_train)\n",
    "X_test = scaler.transform(X_test)\n",
    "\n",
    "# fit the model\n",
    "model = LogisticRegression(solver = 'liblinear', random_state=0, class_weight ='balanced',max_iter=1000)\n",
    "model.fit(X_train, y_train)\n",
    "\n",
    "# Making predictions\n",
    "y_pred = model.predict(X_test)\n",
    "y_prob = model.predict_proba(X_test)\n",
    "\n",
    "# Plot ROC curve\n",
    "false_pr, true_pr, threshold = roc_curve(y_test, y_prob[:,1])\n",
    "plt.figure(figsize=(8,4))\n",
    "\n",
    "# Calculate AUC score\n",
    "auc = roc_auc_score(y_test, y_prob[:,1])\n",
    "plt.plot(false_pr, true_pr,label=\"AUC = {}\".format(auc))\n",
    "plt.legend()\n",
    "plt.xlabel(\"False Positive Rate\")\n",
    "plt.ylabel(\"True Positive Rate\")\n",
    "plt.title(\"ROC Curve - Logistic Regression\")\n",
    "plt.plot([0, 1], [0, 1],'r--')\n",
    "plt.xlim([0, 1])\n",
    "plt.ylim([0, 1])\n",
    "plt.show()\n",
    "\n",
    "\n",
    "print('AUC score = %.3f' % auc) \n",
    "print('Precision Score:', precision_score(y_test, y_pred))\n",
    "print('Accuracy:', accuracy_score(y_test, y_pred))\n",
    "print('Recall Score:', recall_score(y_test, y_pred))\n",
    "print('Confusion Matrix: \\n', confusion_matrix(y_test, y_pred))"
   ]
  },
  {
   "cell_type": "markdown",
   "metadata": {},
   "source": [
    "#### Decision Tree Classifier"
   ]
  },
  {
   "cell_type": "code",
   "execution_count": 28,
   "metadata": {},
   "outputs": [
    {
     "data": {
      "image/png": "[encoded data removed]",
      "text/plain": [
       "<Figure size 576x288 with 1 Axes>"
      ]
     },
     "metadata": {
      "needs_background": "light"
     },
     "output_type": "display_data"
    },
    {
     "name": "stdout",
     "output_type": "stream",
     "text": [
      "AUC score = 0.865\n",
      "Precision Score: 0.7604107244723332\n",
      "Accuracy: 0.9209520168227873\n",
      "Recall Score: 0.7660919540229885\n",
      "Confusion Matrix: \n",
      " [[8302  420]\n",
      " [ 407 1333]]\n"
     ]
    }
   ],
   "source": [
    "X = df_train_ms.drop('Claim',1)\n",
    "y = df_train_ms.Claim\n",
    "\n",
    "X_train,X_test,y_train,y_test = train_test_split(X,y,random_state = 0, test_size = 0.20)\n",
    "\n",
    "scaler = StandardScaler()\n",
    "X_train = scaler.fit_transform(X_train)\n",
    "X_test = scaler.transform(X_test)\n",
    "\n",
    "# fit the model\n",
    "model = DecisionTreeClassifier()\n",
    "model.fit(X_train, y_train)\n",
    "\n",
    "# Making predictions\n",
    "y_pred = model.predict(X_test)\n",
    "y_prob = model.predict_proba(X_test)\n",
    "\n",
    "# Plot ROC curve\n",
    "false_pr, true_pr, threshold = roc_curve(y_test, y_prob[:,1])\n",
    "plt.figure(figsize=(8,4))\n",
    "\n",
    "# Calculate AUC score\n",
    "auc = roc_auc_score(y_test, y_prob[:,1])\n",
    "plt.plot(false_pr, true_pr,label=\"AUC = {}\".format(auc))\n",
    "plt.legend()\n",
    "plt.xlabel(\"False Positive Rate\")\n",
    "plt.ylabel(\"True Positive Rate\")\n",
    "plt.title(\"ROC Curve - Decision Tree Classifier\")\n",
    "plt.plot([0, 1], [0, 1],'r--')\n",
    "plt.xlim([0, 1])\n",
    "plt.ylim([0, 1])\n",
    "plt.show()\n",
    "\n",
    "\n",
    "print('AUC score = %.3f' % auc) \n",
    "print('Precision Score:', precision_score(y_test, y_pred))\n",
    "print('Accuracy:', accuracy_score(y_test, y_pred))\n",
    "print('Recall Score:', recall_score(y_test, y_pred))\n",
    "print('Confusion Matrix: \\n', confusion_matrix(y_test, y_pred))"
   ]
  },
  {
   "cell_type": "markdown",
   "metadata": {},
   "source": [
    "#### K-NN Classifier"
   ]
  },
  {
   "cell_type": "code",
   "execution_count": 29,
   "metadata": {},
   "outputs": [
    {
     "data": {
      "image/png": "[encoded data removed]",
      "text/plain": [
       "<Figure size 576x288 with 1 Axes>"
      ]
     },
     "metadata": {
      "needs_background": "light"
     },
     "output_type": "display_data"
    },
    {
     "name": "stdout",
     "output_type": "stream",
     "text": [
      "AUC score = 0.934\n",
      "Precision Score: 0.6787512588116817\n",
      "Accuracy: 0.9015484610973046\n",
      "Recall Score: 0.774712643678161\n",
      "Confusion Matrix: \n",
      " [[8084  638]\n",
      " [ 392 1348]]\n"
     ]
    }
   ],
   "source": [
    "from sklearn.neighbors import KNeighborsClassifier\n",
    "X = df_train_ms.drop('Claim',1)\n",
    "y = df_train_ms.Claim\n",
    "\n",
    "X_train,X_test,y_train,y_test = train_test_split(X,y,random_state = 0, test_size = 0.20)\n",
    "\n",
    "scaler = StandardScaler()\n",
    "X_train = scaler.fit_transform(X_train)\n",
    "X_test = scaler.transform(X_test)\n",
    "\n",
    "# fit the model\n",
    "model = KNeighborsClassifier(n_neighbors=5)\n",
    "model.fit(X_train, y_train)\n",
    "\n",
    "# Making predictions\n",
    "y_pred = model.predict(X_test)\n",
    "y_prob = model.predict_proba(X_test)\n",
    "\n",
    "# Plot ROC curve\n",
    "false_pr, true_pr, threshold = roc_curve(y_test, y_prob[:,1])\n",
    "plt.figure(figsize=(8,4))\n",
    "\n",
    "# Calculate AUC score\n",
    "auc = roc_auc_score(y_test, y_prob[:,1])\n",
    "plt.plot(false_pr, true_pr,label=\"AUC = {}\".format(auc))\n",
    "plt.legend()\n",
    "plt.xlabel(\"False Positive Rate\")\n",
    "plt.ylabel(\"True Positive Rate\")\n",
    "plt.title(\"ROC Curve - K-NN Classifier\")\n",
    "plt.plot([0, 1], [0, 1],'r--')\n",
    "plt.xlim([0, 1])\n",
    "plt.ylim([0, 1])\n",
    "plt.show()\n",
    "\n",
    "\n",
    "print('AUC score = %.3f' % auc) \n",
    "print('Precision Score:', precision_score(y_test, y_pred))\n",
    "print('Accuracy:', accuracy_score(y_test, y_pred))\n",
    "print('Recall Score:', recall_score(y_test, y_pred))\n",
    "print('Confusion Matrix: \\n', confusion_matrix(y_test, y_pred))"
   ]
  },
  {
   "cell_type": "markdown",
   "metadata": {},
   "source": [
    "#### Random Forest"
   ]
  },
  {
   "cell_type": "code",
   "execution_count": 30,
   "metadata": {},
   "outputs": [
    {
     "data": {
      "image/png": "[encoded data removed]",
      "text/plain": [
       "<Figure size 576x288 with 1 Axes>"
      ]
     },
     "metadata": {
      "needs_background": "light"
     },
     "output_type": "display_data"
    },
    {
     "name": "stdout",
     "output_type": "stream",
     "text": [
      "AUC score = 0.966\n",
      "Precision Score: 0.8351648351648352\n",
      "Accuracy: 0.9386350602179315\n",
      "Recall Score: 0.7862068965517242\n",
      "Confusion Matrix: \n",
      " [[8452  270]\n",
      " [ 372 1368]]\n"
     ]
    }
   ],
   "source": [
    "# Model Building using normal Random Forest Classifier\n",
    "X = df_train_ms.drop('Claim',1)\n",
    "y = df_train_ms.Claim\n",
    "\n",
    "X_train,X_test,y_train,y_test = train_test_split(X,y,random_state = 0, test_size = 0.20)\n",
    "\n",
    "scaler = StandardScaler()\n",
    "X_train = scaler.fit_transform(X_train)\n",
    "X_test = scaler.transform(X_test)\n",
    "\n",
    "# fit the model\n",
    "model = RandomForestClassifier(random_state = 0)\n",
    "model.fit(X_train, y_train)\n",
    "\n",
    "# Making predictions\n",
    "y_pred = model.predict(X_test)\n",
    "y_prob = model.predict_proba(X_test)\n",
    "\n",
    "# Plot ROC curve\n",
    "false_pr, true_pr, threshold = roc_curve(y_test, y_prob[:,1])\n",
    "plt.figure(figsize=(8,4))\n",
    "\n",
    "# Calculate AUC score\n",
    "auc = roc_auc_score(y_test, y_prob[:,1])\n",
    "plt.plot(false_pr, true_pr,label=\"AUC = {}\".format(auc))\n",
    "plt.legend()\n",
    "plt.xlabel(\"False Positive Rate\")\n",
    "plt.ylabel(\"True Positive Rate\")\n",
    "plt.title(\"ROC Curve - Random Forest Classifier\")\n",
    "plt.plot([0, 1], [0, 1],'r--')\n",
    "plt.xlim([0, 1])\n",
    "plt.ylim([0, 1])\n",
    "plt.show()\n",
    "\n",
    "\n",
    "print('AUC score = %.3f' % auc) \n",
    "print('Precision Score:', precision_score(y_test, y_pred))\n",
    "print('Accuracy:', accuracy_score(y_test, y_pred))\n",
    "print('Recall Score:', recall_score(y_test, y_pred))\n",
    "print('Confusion Matrix: \\n', confusion_matrix(y_test, y_pred))"
   ]
  },
  {
   "cell_type": "markdown",
   "metadata": {},
   "source": [
    "### Model Building using Undersampling and Oversampling"
   ]
  },
  {
   "cell_type": "markdown",
   "metadata": {},
   "source": [
    "##### Undersampling"
   ]
  },
  {
   "cell_type": "code",
   "execution_count": 31,
   "metadata": {},
   "outputs": [],
   "source": [
    "# NearMiss-1: Majority class examples with minimum average distance to three closest minority class examples. - 0.875\n",
    "undersample = NearMiss(version=1, n_neighbors=5)\n",
    "\n",
    "# NearMiss-3: Majority class examples with minimum distance to each minority class example. - 0.80\n",
    "#undersample = NearMiss(version=3, n_neighbors=5)\n",
    "\n",
    "X_us, y_us = undersample.fit_resample(X, y)"
   ]
  },
  {
   "cell_type": "code",
   "execution_count": 32,
   "metadata": {},
   "outputs": [
    {
     "data": {
      "image/png": "[encoded data removed]",
      "text/plain": [
       "<Figure size 432x432 with 1 Axes>"
      ]
     },
     "metadata": {
      "needs_background": "light"
     },
     "output_type": "display_data"
    }
   ],
   "source": [
    "plt.figure(figsize = (6,6))\n",
    "ax = sns.countplot(y_us)\n",
    "plt.xticks((0, 1), ('Not Claimed', 'Claimed'), rotation='horizontal')\n",
    "for p in ax.patches:\n",
    "        ax.annotate('{:}'.format(p.get_height()), (p.get_x()+0.15, p.get_height()+75))\n",
    "plt.title('Claim Status After Random Undersampling')\n",
    "plt.show()"
   ]
  },
  {
   "cell_type": "code",
   "execution_count": 33,
   "metadata": {},
   "outputs": [
    {
     "data": {
      "image/png": "[encoded data removed]",
      "text/plain": [
       "<Figure size 576x288 with 1 Axes>"
      ]
     },
     "metadata": {
      "needs_background": "light"
     },
     "output_type": "display_data"
    },
    {
     "name": "stdout",
     "output_type": "stream",
     "text": [
      "AUC score = 0.944\n",
      "Precision Score: 0.869467787114846\n",
      "Accuracy: 0.8758600917431193\n",
      "Recall Score: 0.8858447488584474\n",
      "Confusion Matrix: \n",
      " [[1503  233]\n",
      " [ 200 1552]]\n"
     ]
    }
   ],
   "source": [
    "# Model building using Random Forest but by performing Random Under-Sampling on the training data \n",
    "X = df_train_ms.drop('Claim',1)\n",
    "y = df_train_ms.Claim\n",
    "\n",
    "# Using over-sampled data for training the model\n",
    "X_train,X_test,y_train,y_test = train_test_split(X_us,y_us,random_state = 0, test_size = 0.2)\n",
    "\n",
    "scaler = StandardScaler()\n",
    "X_train = scaler.fit_transform(X_train)\n",
    "X_test = scaler.transform(X_test)\n",
    "\n",
    "# fit the model\n",
    "model = RandomForestClassifier(random_state = 0)\n",
    "model.fit(X_train, y_train)\n",
    "\n",
    "# Making predictions\n",
    "y_pred = model.predict(X_test)\n",
    "y_prob = model.predict_proba(X_test)\n",
    "\n",
    "# Plot ROC curve\n",
    "false_pr, true_pr, threshold = roc_curve(y_test, y_prob[:,1])\n",
    "plt.figure(figsize=(8,4))\n",
    "\n",
    "# Calculate AUC score\n",
    "auc = roc_auc_score(y_test, y_prob[:,1])\n",
    "plt.plot(false_pr, true_pr,label=\"AUC = {}\".format(auc))\n",
    "plt.legend()\n",
    "plt.xlabel(\"False Positive Rate\")\n",
    "plt.ylabel(\"True Positive Rate\")\n",
    "plt.title(\"ROC Curve - Random Forest (undersampling)\")\n",
    "plt.plot([0, 1], [0, 1],'r--')\n",
    "plt.xlim([0, 1])\n",
    "plt.ylim([0, 1])\n",
    "plt.show()\n",
    "\n",
    "\n",
    "print('AUC score = %.3f' % auc) \n",
    "print('Precision Score:', precision_score(y_test, y_pred))\n",
    "print('Accuracy:', accuracy_score(y_test, y_pred))\n",
    "print('Recall Score:', recall_score(y_test, y_pred))\n",
    "print('Confusion Matrix: \\n', confusion_matrix(y_test, y_pred))"
   ]
  },
  {
   "cell_type": "markdown",
   "metadata": {},
   "source": [
    "##### Oversampling"
   ]
  },
  {
   "cell_type": "code",
   "execution_count": 34,
   "metadata": {},
   "outputs": [],
   "source": [
    "#Oversampling\n",
    "over_sampling = RandomOverSampler(random_state=0)\n",
    "X_os, y_os = over_sampling.fit_resample(X, y)"
   ]
  },
  {
   "cell_type": "code",
   "execution_count": 35,
   "metadata": {},
   "outputs": [
    {
     "data": {
      "image/png": "[encoded data removed]",
      "text/plain": [
       "<Figure size 432x432 with 1 Axes>"
      ]
     },
     "metadata": {
      "needs_background": "light"
     },
     "output_type": "display_data"
    }
   ],
   "source": [
    "plt.figure(figsize = (6,6))\n",
    "ax = sns.countplot(y_os)\n",
    "plt.xticks((0, 1), ('Not Claimed', 'Claimed'), rotation='horizontal')\n",
    "for p in ax.patches:\n",
    "        ax.annotate('{:}'.format(p.get_height()), (p.get_x()+0.15, p.get_height()+75))\n",
    "plt.title('Claim Status After Random Oversampling')\n",
    "plt.show()"
   ]
  },
  {
   "cell_type": "markdown",
   "metadata": {},
   "source": [
    "#### Logistic Regression"
   ]
  },
  {
   "cell_type": "code",
   "execution_count": 36,
   "metadata": {},
   "outputs": [
    {
     "data": {
      "image/png": "[encoded data removed]",
      "text/plain": [
       "<Figure size 576x288 with 1 Axes>"
      ]
     },
     "metadata": {
      "needs_background": "light"
     },
     "output_type": "display_data"
    },
    {
     "name": "stdout",
     "output_type": "stream",
     "text": [
      "AUC score = 0.866\n",
      "Precision Score: 0.7786430552592276\n",
      "Accuracy: 0.7984055976141317\n",
      "Recall Score: 0.835221421215242\n",
      "Confusion Matrix: \n",
      " [[6622 2075]\n",
      " [1440 7299]]\n"
     ]
    }
   ],
   "source": [
    "X = df_train_ms.drop('Claim',1)\n",
    "y = df_train_ms.Claim\n",
    "\n",
    "X_train,X_test,y_train,y_test = train_test_split(X_os,y_os,random_state = 0, test_size = 0.20)\n",
    "\n",
    "scaler = StandardScaler()\n",
    "X_train = scaler.fit_transform(X_train)\n",
    "X_test = scaler.transform(X_test)\n",
    "\n",
    "# fit the model\n",
    "model = LogisticRegression(solver = 'liblinear', random_state=0, class_weight ='balanced',max_iter=1000)\n",
    "model.fit(X_train, y_train)\n",
    "\n",
    "# Making predictions\n",
    "y_pred = model.predict(X_test)\n",
    "y_prob = model.predict_proba(X_test)\n",
    "\n",
    "# Plot ROC curve\n",
    "false_pr, true_pr, threshold = roc_curve(y_test, y_prob[:,1])\n",
    "plt.figure(figsize=(8,4))\n",
    "\n",
    "# Calculate AUC score\n",
    "auc = roc_auc_score(y_test, y_prob[:,1])\n",
    "plt.plot(false_pr, true_pr,label=\"AUC = {}\".format(auc))\n",
    "plt.legend()\n",
    "plt.xlabel(\"False Positive Rate\")\n",
    "plt.ylabel(\"True Positive Rate\")\n",
    "plt.title(\"ROC Curve - Logistic Regression\")\n",
    "plt.plot([0, 1], [0, 1],'r--')\n",
    "plt.xlim([0, 1])\n",
    "plt.ylim([0, 1])\n",
    "plt.show()\n",
    "\n",
    "\n",
    "print('AUC score = %.3f' % auc) \n",
    "print('Precision Score:', precision_score(y_test, y_pred))\n",
    "print('Accuracy:', accuracy_score(y_test, y_pred))\n",
    "print('Recall Score:', recall_score(y_test, y_pred))\n",
    "print('Confusion Matrix: \\n', confusion_matrix(y_test, y_pred))"
   ]
  },
  {
   "cell_type": "markdown",
   "metadata": {},
   "source": [
    "#### Decision Tree Classifier"
   ]
  },
  {
   "cell_type": "code",
   "execution_count": 37,
   "metadata": {},
   "outputs": [
    {
     "data": {
      "image/png": "[encoded data removed]",
      "text/plain": [
       "<Figure size 576x288 with 1 Axes>"
      ]
     },
     "metadata": {
      "needs_background": "light"
     },
     "output_type": "display_data"
    },
    {
     "name": "stdout",
     "output_type": "stream",
     "text": [
      "AUC score = 0.975\n",
      "Precision Score: 0.9538832292693614\n",
      "Accuracy: 0.9740766230786878\n",
      "Recall Score: 0.9964526833733837\n",
      "Confusion Matrix: \n",
      " [[8276  421]\n",
      " [  31 8708]]\n"
     ]
    }
   ],
   "source": [
    "X = df_train_ms.drop('Claim',1)\n",
    "y = df_train_ms.Claim\n",
    "\n",
    "X_train,X_test,y_train,y_test = train_test_split(X_os,y_os,random_state = 0, test_size = 0.20)\n",
    "\n",
    "scaler = StandardScaler()\n",
    "X_train = scaler.fit_transform(X_train)\n",
    "X_test = scaler.transform(X_test)\n",
    "\n",
    "# fit the model\n",
    "model = DecisionTreeClassifier()\n",
    "model.fit(X_train, y_train)\n",
    "\n",
    "# Making predictions\n",
    "y_pred = model.predict(X_test)\n",
    "y_prob = model.predict_proba(X_test)\n",
    "\n",
    "# Plot ROC curve\n",
    "false_pr, true_pr, threshold = roc_curve(y_test, y_prob[:,1])\n",
    "plt.figure(figsize=(8,4))\n",
    "\n",
    "# Calculate AUC score\n",
    "auc = roc_auc_score(y_test, y_prob[:,1])\n",
    "plt.plot(false_pr, true_pr,label=\"AUC = {}\".format(auc))\n",
    "plt.legend()\n",
    "plt.xlabel(\"False Positive Rate\")\n",
    "plt.ylabel(\"True Positive Rate\")\n",
    "plt.title(\"ROC Curve - Decision Tree Classifier\")\n",
    "plt.plot([0, 1], [0, 1],'r--')\n",
    "plt.xlim([0, 1])\n",
    "plt.ylim([0, 1])\n",
    "plt.show()\n",
    "\n",
    "\n",
    "\n",
    "print('AUC score = %.3f' % auc) \n",
    "print('Precision Score:', precision_score(y_test, y_pred))\n",
    "print('Accuracy:', accuracy_score(y_test, y_pred))\n",
    "print('Recall Score:', recall_score(y_test, y_pred))\n",
    "print('Confusion Matrix: \\n', confusion_matrix(y_test, y_pred))"
   ]
  },
  {
   "cell_type": "markdown",
   "metadata": {},
   "source": [
    "#### K-NN Classifier"
   ]
  },
  {
   "cell_type": "code",
   "execution_count": 38,
   "metadata": {},
   "outputs": [
    {
     "data": {
      "image/png": "[encoded data removed]",
      "text/plain": [
       "<Figure size 576x288 with 1 Axes>"
      ]
     },
     "metadata": {
      "needs_background": "light"
     },
     "output_type": "display_data"
    },
    {
     "name": "stdout",
     "output_type": "stream",
     "text": [
      "AUC score = 0.965\n",
      "Precision Score: 0.8801062091503268\n",
      "Accuracy: 0.9257283780683643\n",
      "Recall Score: 0.9861540221993363\n",
      "Confusion Matrix: \n",
      " [[7523 1174]\n",
      " [ 121 8618]]\n"
     ]
    }
   ],
   "source": [
    "X = df_train_ms.drop('Claim',1)\n",
    "y = df_train_ms.Claim\n",
    "\n",
    "X_train,X_test,y_train,y_test = train_test_split(X_os,y_os,random_state = 0, test_size = 0.20)\n",
    "\n",
    "scaler = StandardScaler()\n",
    "X_train = scaler.fit_transform(X_train)\n",
    "X_test = scaler.transform(X_test)\n",
    "\n",
    "# fit the model\n",
    "model = KNeighborsClassifier(n_neighbors=5)\n",
    "model.fit(X_train, y_train)\n",
    "\n",
    "# Making predictions\n",
    "y_pred = model.predict(X_test)\n",
    "y_prob = model.predict_proba(X_test)\n",
    "\n",
    "# Plot ROC curve\n",
    "false_pr, true_pr, threshold = roc_curve(y_test, y_prob[:,1])\n",
    "plt.figure(figsize=(8,4))\n",
    "\n",
    "# Calculate AUC score\n",
    "auc = roc_auc_score(y_test, y_prob[:,1])\n",
    "plt.plot(false_pr, true_pr,label=\"AUC = {}\".format(auc))\n",
    "plt.legend()\n",
    "plt.xlabel(\"False Positive Rate\")\n",
    "plt.ylabel(\"True Positive Rate\")\n",
    "plt.title(\"ROC Curve - K-NN Classifier\")\n",
    "plt.plot([0, 1], [0, 1],'r--')\n",
    "plt.xlim([0, 1])\n",
    "plt.ylim([0, 1])\n",
    "plt.show()\n",
    "\n",
    "\n",
    "print('AUC score = %.3f' % auc) \n",
    "print('Precision Score:', precision_score(y_test, y_pred))\n",
    "print('Accuracy:', accuracy_score(y_test, y_pred))\n",
    "print('Recall Score:', recall_score(y_test, y_pred))\n",
    "print('Confusion Matrix: \\n', confusion_matrix(y_test, y_pred))"
   ]
  },
  {
   "cell_type": "markdown",
   "metadata": {},
   "source": [
    "#### Random Forest"
   ]
  },
  {
   "cell_type": "code",
   "execution_count": 39,
   "metadata": {},
   "outputs": [
    {
     "data": {
      "image/png": "[encoded data removed]",
      "text/plain": [
       "<Figure size 576x288 with 1 Axes>"
      ]
     },
     "metadata": {
      "needs_background": "light"
     },
     "output_type": "display_data"
    },
    {
     "name": "stdout",
     "output_type": "stream",
     "text": [
      "AUC score = 0.996\n",
      "Precision Score: 0.9563548634718719\n",
      "Accuracy: 0.9761413168157834\n",
      "Recall Score: 0.9979402677651905\n",
      "Confusion Matrix: \n",
      " [[8299  398]\n",
      " [  18 8721]]\n"
     ]
    }
   ],
   "source": [
    "# Model building using Random Forest but by performing Random Over-Sampling on the training data \n",
    "X = df_train_ms.drop('Claim',1)\n",
    "y = df_train_ms.Claim\n",
    "\n",
    "X_train,X_test,y_train,y_test = train_test_split(X_os,y_os,random_state = 0, test_size = 0.20)\n",
    "\n",
    "scaler = StandardScaler()\n",
    "X_train = scaler.fit_transform(X_train)\n",
    "X_test = scaler.transform(X_test)\n",
    "\n",
    "# fit the model\n",
    "model = RandomForestClassifier(random_state = 0)\n",
    "model.fit(X_train, y_train)\n",
    "\n",
    "# Making predictions\n",
    "y_pred = model.predict(X_test)\n",
    "y_prob = model.predict_proba(X_test)\n",
    "\n",
    "# Plot ROC curve\n",
    "false_pr, true_pr, threshold = roc_curve(y_test, y_prob[:,1])\n",
    "plt.figure(figsize=(8,4))\n",
    "\n",
    "# Calculate AUC score\n",
    "auc = roc_auc_score(y_test, y_prob[:,1])\n",
    "plt.plot(false_pr, true_pr,label=\"AUC = {}\".format(auc))\n",
    "plt.legend()\n",
    "plt.xlabel(\"False Positive Rate\")\n",
    "plt.ylabel(\"True Positive Rate\")\n",
    "plt.title(\"ROC Curve - Random Forest Classifier\")\n",
    "plt.plot([0, 1], [0, 1],'r--')\n",
    "plt.xlim([0, 1])\n",
    "plt.ylim([0, 1])\n",
    "plt.show()\n",
    "\n",
    "\n",
    "print('AUC score = %.3f' % auc) \n",
    "print('Precision Score:', precision_score(y_test, y_pred))\n",
    "print('Accuracy:', accuracy_score(y_test, y_pred))\n",
    "print('Recall Score:', recall_score(y_test, y_pred))\n",
    "print('Confusion Matrix: \\n', confusion_matrix(y_test, y_pred))"
   ]
  },
  {
   "cell_type": "code",
   "execution_count": 40,
   "metadata": {},
   "outputs": [],
   "source": [
    "df_test_ms = pd.read_csv('../data/test.csv')"
   ]
  },
  {
   "cell_type": "code",
   "execution_count": 41,
   "metadata": {},
   "outputs": [],
   "source": [
    "# Saving id's for sample output\n",
    "id = df_test_ms.ID"
   ]
  },
  {
   "cell_type": "code",
   "execution_count": 42,
   "metadata": {},
   "outputs": [
    {
     "data": {
      "text/html": [
       "<div>\n",
       "<style scoped>\n",
       "    .dataframe tbody tr th:only-of-type {\n",
       "        vertical-align: middle;\n",
       "    }\n",
       "\n",
       "    .dataframe tbody tr th {\n",
       "        vertical-align: top;\n",
       "    }\n",
       "\n",
       "    .dataframe thead th {\n",
       "        text-align: right;\n",
       "    }\n",
       "</style>\n",
       "<table border=\"1\" class=\"dataframe\">\n",
       "  <thead>\n",
       "    <tr style=\"text-align: right;\">\n",
       "      <th></th>\n",
       "      <th>ID</th>\n",
       "      <th>Agency</th>\n",
       "      <th>Agency Type</th>\n",
       "      <th>Distribution Channel</th>\n",
       "      <th>Product Name</th>\n",
       "      <th>Duration</th>\n",
       "      <th>Destination</th>\n",
       "      <th>Net Sales</th>\n",
       "      <th>Commision (in value)</th>\n",
       "      <th>Age</th>\n",
       "    </tr>\n",
       "  </thead>\n",
       "  <tbody>\n",
       "    <tr>\n",
       "      <td>0</td>\n",
       "      <td>17631</td>\n",
       "      <td>EPX</td>\n",
       "      <td>Travel Agency</td>\n",
       "      <td>Online</td>\n",
       "      <td>Cancellation Plan</td>\n",
       "      <td>192</td>\n",
       "      <td>HONG KONG</td>\n",
       "      <td>18.0</td>\n",
       "      <td>0.00</td>\n",
       "      <td>36</td>\n",
       "    </tr>\n",
       "    <tr>\n",
       "      <td>1</td>\n",
       "      <td>15064</td>\n",
       "      <td>EPX</td>\n",
       "      <td>Travel Agency</td>\n",
       "      <td>Online</td>\n",
       "      <td>1 way Comprehensive Plan</td>\n",
       "      <td>2</td>\n",
       "      <td>SINGAPORE</td>\n",
       "      <td>20.0</td>\n",
       "      <td>0.00</td>\n",
       "      <td>36</td>\n",
       "    </tr>\n",
       "    <tr>\n",
       "      <td>2</td>\n",
       "      <td>14139</td>\n",
       "      <td>C2B</td>\n",
       "      <td>Airlines</td>\n",
       "      <td>Online</td>\n",
       "      <td>Bronze Plan</td>\n",
       "      <td>13</td>\n",
       "      <td>SINGAPORE</td>\n",
       "      <td>13.5</td>\n",
       "      <td>3.38</td>\n",
       "      <td>24</td>\n",
       "    </tr>\n",
       "    <tr>\n",
       "      <td>3</td>\n",
       "      <td>19754</td>\n",
       "      <td>EPX</td>\n",
       "      <td>Travel Agency</td>\n",
       "      <td>Online</td>\n",
       "      <td>2 way Comprehensive Plan</td>\n",
       "      <td>133</td>\n",
       "      <td>TAIWAN, PROVINCE OF CHINA</td>\n",
       "      <td>41.0</td>\n",
       "      <td>0.00</td>\n",
       "      <td>36</td>\n",
       "    </tr>\n",
       "    <tr>\n",
       "      <td>4</td>\n",
       "      <td>16439</td>\n",
       "      <td>C2B</td>\n",
       "      <td>Airlines</td>\n",
       "      <td>Online</td>\n",
       "      <td>Silver Plan</td>\n",
       "      <td>2</td>\n",
       "      <td>SINGAPORE</td>\n",
       "      <td>30.0</td>\n",
       "      <td>7.50</td>\n",
       "      <td>32</td>\n",
       "    </tr>\n",
       "  </tbody>\n",
       "</table>\n",
       "</div>"
      ],
      "text/plain": [
       "      ID Agency    Agency Type Distribution Channel              Product Name  \\\n",
       "0  17631    EPX  Travel Agency               Online         Cancellation Plan   \n",
       "1  15064    EPX  Travel Agency               Online  1 way Comprehensive Plan   \n",
       "2  14139    C2B       Airlines               Online               Bronze Plan   \n",
       "3  19754    EPX  Travel Agency               Online  2 way Comprehensive Plan   \n",
       "4  16439    C2B       Airlines               Online               Silver Plan   \n",
       "\n",
       "   Duration                Destination  Net Sales  Commision (in value)  Age  \n",
       "0       192                  HONG KONG       18.0                  0.00   36  \n",
       "1         2                  SINGAPORE       20.0                  0.00   36  \n",
       "2        13                  SINGAPORE       13.5                  3.38   24  \n",
       "3       133  TAIWAN, PROVINCE OF CHINA       41.0                  0.00   36  \n",
       "4         2                  SINGAPORE       30.0                  7.50   32  "
      ]
     },
     "execution_count": 42,
     "metadata": {},
     "output_type": "execute_result"
    }
   ],
   "source": [
    "df_test_ms.head()"
   ]
  },
  {
   "cell_type": "code",
   "execution_count": 43,
   "metadata": {},
   "outputs": [],
   "source": [
    "# Drop ID\n",
    "df_test_ms.drop('ID',1,inplace = True)\n",
    "\n",
    "# One Hot Encoding\n",
    "ohe_test = df_test_ms.select_dtypes('object').columns.tolist()\n",
    "for ohe in ohe_test:\n",
    "    df_test_ms = pd.concat((df_test_ms,pd.get_dummies(df_test_ms[ohe])),1)\n",
    "    df_test_ms.drop(ohe,1,inplace = True)\n",
    "\n",
    "# Treating negative values in Duration column\n",
    "df_test_ms.Duration.replace(-1,0, inplace = True)\n",
    "df_test_ms.Duration.replace(-2,0, inplace = True)\n",
    "\n",
    "# Skewed Columns\n",
    "df_test_ms.loc[:,'Duration'] = np.power(df_test_ms.Duration, 0.15)\n",
    "\n",
    "power = 0.25\n",
    "Net_sales_value = df_test_ms.index\n",
    "for index in Net_sales_value:\n",
    "    if df_test_ms.loc[index,'Net Sales'] < 0:\n",
    "        df_test_ms.loc[index,'Net Sales'] = -np.power(abs(df_test_ms.loc[index,'Net Sales']), power)\n",
    "    else:\n",
    "        df_test_ms.loc[index,'Net Sales'] = np.power(df_test_ms.loc[index,'Net Sales'], power)       \n",
    "\n",
    "df_test_ms.loc[:,'Commision (in value)'] = np.power(df_test_ms['Commision (in value)'], 0.25)\n",
    "\n",
    "# Scaler tranformation\n",
    "df_test_ms = scaler.transform(df_test_ms)\n",
    "\n",
    "# prediction\n",
    "predicted_op = model.predict(df_test_ms)\n",
    "# threshold tuned predictions \n",
    "output_ms = model.predict_proba(df_test_ms)[:,1]\n"
   ]
  },
  {
   "cell_type": "code",
   "execution_count": 44,
   "metadata": {},
   "outputs": [],
   "source": [
    "#output_ms = (output_ms > 0.85).astype(int)#  - 0.84 GA\n",
    "#output_ms = (output_ms > 0.90).astype(int) # - 0.86 GA\n",
    "#output_ms = (output_ms > 0.95).astype(int) # - 0.88 GA\n",
    "#output_ms = (output_ms > 0.96).astype(int) # - 0.90 GA\n",
    "#output_ms = (output_ms > 0.97).astype(int)  #- 0.92 GA\n",
    "#output_ms = (output_ms > 0.98).astype(int)  #- 0.94 GA\n",
    "output_ms = (output_ms > 0.99).astype(int) #- 0.97 GA"
   ]
  },
  {
   "cell_type": "code",
   "execution_count": 45,
   "metadata": {},
   "outputs": [],
   "source": [
    "final_result_ms = pd.DataFrame()\n",
    "final_result_ms['ID'] = id\n",
    "final_result_ms['Claim'] = output_ms\n"
   ]
  },
  {
   "cell_type": "code",
   "execution_count": 46,
   "metadata": {},
   "outputs": [
    {
     "data": {
      "text/plain": [
       "0    22274\n",
       "1      147\n",
       "Name: Claim, dtype: int64"
      ]
     },
     "execution_count": 46,
     "metadata": {},
     "output_type": "execute_result"
    }
   ],
   "source": [
    "final_result_ms.Claim.value_counts()"
   ]
  },
  {
   "cell_type": "code",
   "execution_count": 47,
   "metadata": {},
   "outputs": [],
   "source": [
    "final_result_ms.to_csv('final_result_ms.csv',index = False)"
   ]
  }
 ],
 "metadata": {
  "kernelspec": {
   "display_name": "Python 3",
   "language": "python",
   "name": "python3"
  },
  "language_info": {
   "codemirror_mode": {
    "name": "ipython",
    "version": 3
   },
   "file_extension": ".py",
   "mimetype": "text/x-python",
   "name": "python",
   "nbconvert_exporter": "python",
   "pygments_lexer": "ipython3",
   "version": "3.7.4"
  }
 },
 "nbformat": 4,
 "nbformat_minor": 2
}
